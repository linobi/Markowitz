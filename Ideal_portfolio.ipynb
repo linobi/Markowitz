{
 "cells": [
  {
   "cell_type": "markdown",
   "metadata": {},
   "source": [
    "In this notebook I'm gonna try to obtain the performance of an \"idealized\" portfolio. That is, a portfolio that is always on a specific point of the Markowitz efficient frontier. This point could be, for example, the point with the highest return-risk tradeoff (sharpe ratio) or could also be the point with the highest return, etc; \n",
    "\n",
    "it really doesn't matter, what it is important is that everytime the efficient frontier moves, the portfolio is at a point with the same characteristics than at previous points in time.\n",
    "\n",
    "What would it be the performance of such a portfolio? How it would behave?"
   ]
  },
  {
   "cell_type": "code",
   "execution_count": 1,
   "metadata": {
    "collapsed": true
   },
   "outputs": [],
   "source": [
    "%matplotlib inline\n",
    "import numpy as np\n",
    "import matplotlib.pyplot as plt\n",
    "from mpl_toolkits.mplot3d import Axes3D\n",
    "from matplotlib import cm\n",
    "import cvxopt as opt\n",
    "from cvxopt import blas, solvers\n",
    "import pandas as pd\n",
    "\n",
    "np.random.seed(123)\n",
    "\n",
    "#Turn off progress printing\n",
    "solvers.options['show_progress']=False\n",
    "\n",
    "import plotly.plotly as py\n",
    "import plotly.tools as tls\n",
    "from plotly.graph_objs import *\n",
    "import plotly.graph_objs as go\n",
    "\n",
    "\n",
    "#This is necessary for the visualization service\n",
    "import plotly\n",
    "py.sign_in('linobi', 'xlupudvz62')\n",
    "import cufflinks\n",
    "plotly.__version__\n",
    "\n",
    "from datetime import datetime\n",
    "from zipline.utils.factory import load_bars_from_yahoo"
   ]
  },
  {
   "cell_type": "markdown",
   "metadata": {},
   "source": [
    "As usual, we can choose between real or artificial data. For real data:"
   ]
  },
  {
   "cell_type": "code",
   "execution_count": 2,
   "metadata": {
    "collapsed": false
   },
   "outputs": [
    {
     "name": "stderr",
     "output_type": "stream",
     "text": [
      "/Users/lino/anaconda/lib/python3.5/site-packages/ipykernel/__main__.py:10: DeprecationWarning:\n",
      "\n",
      "load_bars_from_yahoo is deprecated, please register a yahoo_equities data bundle instead\n",
      "\n"
     ]
    }
   ],
   "source": [
    "#starting and ending dates\n",
    "end = pd.Timestamp(datetime(2016, 1, 1))\n",
    "start = end - 2500* pd.tseries.offsets.BDay() #This is approximately ten years.\n",
    "\n",
    "#Tickers to use. Be careful with the combination of signals and periods to be used...\n",
    "#if some data is missing or has a weird behavior (including constant returns, like in the case of bonds or most fixed income)\n",
    "#the quadratic optimizator will go to hell\n",
    "data = load_bars_from_yahoo(stocks=['IBM', 'GLD', 'XOM', 'AAPL', \n",
    "                                    'MSFT', 'TLT'],\n",
    "                            start=start, end=end)\n",
    "\n",
    "return_vec = data.loc[:, :, 'price'].pct_change().dropna()\n",
    "\n",
    "#in case you wanna take a look of the imported data:\n",
    "#data.loc[:, :, 'price'].iplot(filename='prices', yTitle='price in $', world_readable=True, asDates=True)"
   ]
  },
  {
   "cell_type": "markdown",
   "metadata": {},
   "source": [
    "For artificial data:"
   ]
  },
  {
   "cell_type": "code",
   "execution_count": null,
   "metadata": {
    "collapsed": true
   },
   "outputs": [],
   "source": [
    "## Number of assets... we'll simulate the same amount of assets used above, just for the sake of it\n",
    "n_assets = 6\n",
    "## Number of observations... and the same size of sample\n",
    "n_obs = 2500\n",
    "\n",
    "return_vec = np.random.randn(n_assets, n_obs)\n",
    "\n",
    "#Put the artificial series in dataframe form\n",
    "return_vec = return_vec.T"
   ]
  },
  {
   "cell_type": "markdown",
   "metadata": {},
   "source": [
    "And the Markowitz Optimization Technique:"
   ]
  },
  {
   "cell_type": "code",
   "execution_count": 3,
   "metadata": {
    "collapsed": true
   },
   "outputs": [],
   "source": [
    "def optimal_portfolio(returns):\n",
    "    n = len(returns)\n",
    "    returns = np.asmatrix(returns)\n",
    "    \n",
    "    N = 100\n",
    "    mus = [10**(5.0*t/N - 1.0) for t in range(N)]\n",
    "    \n",
    "    #Convert to cvxopt matrices\n",
    "    S = opt.matrix(np.cov(returns))\n",
    "    pbar = opt.matrix(np.mean(returns, axis=1))\n",
    "    \n",
    "    #Create constraint matrices\n",
    "    G = -opt.matrix(np.eye(n))\n",
    "    h = opt.matrix(0.0, (n, 1))\n",
    "    A = opt.matrix(1.0, (1, n))\n",
    "    b = opt.matrix(1.0)\n",
    "    \n",
    "    # Calculate efficient frontier weights using quadratic programming\n",
    "    portfolios = [solvers.qp(mu*S, -pbar, G, h, A, b)['x'] \n",
    "                  for mu in mus]\n",
    "    \n",
    "    ## Calculate risks and returns for frontier\n",
    "    returns = [blas.dot(pbar, x) for x in portfolios]\n",
    "    risks = [np.sqrt(blas.dot(x, S*x)) for x in portfolios]\n",
    "    \n",
    "    ## Calculate the 2nd degree polynomial of the frontier curve\n",
    "    m1 = np.polyfit(returns, risks, 2)\n",
    "    x1 = np.sqrt(m1[2] / m1[0])\n",
    "    \n",
    "    ## Calculate the optimal portfolio\n",
    "    wt = solvers.qp(opt.matrix(x1 * S), -pbar, G, h, A, b)['x']\n",
    "    return np.asarray(wt), returns, risks"
   ]
  },
  {
   "cell_type": "markdown",
   "metadata": {},
   "source": [
    "First we'll get the set of efficient frontiers through time."
   ]
  },
  {
   "cell_type": "code",
   "execution_count": 4,
   "metadata": {
    "collapsed": true
   },
   "outputs": [],
   "source": [
    "Period = []\n",
    "Returns = []\n",
    "Risks = []\n",
    "\n",
    "#we'll try this trick to plot a nice surface\n",
    "Returns_surfs = []\n",
    "\n",
    "#we'll find the efficient frontier every 20 days\n",
    "for x in range (0,120):\n",
    "    \n",
    "    returns_snapshot = return_vec[0 + x*20 : 250 + x*20].copy() #you need to do this stupid copy, because the optimizer needs the arrays transposed, and the dynamic nature of python will attempt to transpose the chopped array into the whole one.\n",
    "    weights, ret, ris = optimal_portfolio(returns_snapshot.T)\n",
    "    \n",
    "    for y in range (0,len(ret)):\n",
    "        Period.append(x)\n",
    "    \n",
    "    Returns_surfs.append(ret)\n",
    "    \n",
    "    Returns = Returns + ret \n",
    "    Risks = Risks + ris"
   ]
  },
  {
   "cell_type": "markdown",
   "metadata": {},
   "source": [
    "And plotting:"
   ]
  },
  {
   "cell_type": "code",
   "execution_count": 5,
   "metadata": {
    "collapsed": false
   },
   "outputs": [
    {
     "data": {
      "text/html": [
       "<iframe id=\"igraph\" scrolling=\"no\" style=\"border:none;\" seamless=\"seamless\" src=\"https://plot.ly/~linobi/175.embed\" height=\"525px\" width=\"100%\"></iframe>"
      ],
      "text/plain": [
       "<plotly.tools.PlotlyDisplay object>"
      ]
     },
     "execution_count": 5,
     "metadata": {},
     "output_type": "execute_result"
    }
   ],
   "source": [
    "trace1 = go.Scatter3d(\n",
    "    x=Period,\n",
    "    y=Risks,\n",
    "    z=Returns,\n",
    "    mode='markers',\n",
    "    marker=dict(\n",
    "        size=1,\n",
    "        color=Returns,                # set color to an array/list of desired values\n",
    "        colorscale='Viridis',   # choose a colorscale\n",
    "        opacity=0.8\n",
    "    )\n",
    ")\n",
    "\n",
    "data = [trace1]\n",
    "layout = go.Layout(\n",
    "    margin=dict(\n",
    "        l=0,\n",
    "        r=0,\n",
    "        b=0,\n",
    "        t=0\n",
    "    )\n",
    ")\n",
    "fig = go.Figure(data=data, layout=layout)\n",
    "py.iplot(fig, filename='dynamic-frontier-20days-2006-2016-AAPL-MST-GLD-TLT-XOM-IBM')"
   ]
  },
  {
   "cell_type": "markdown",
   "metadata": {},
   "source": [
    "Now we gonna try to find the \"trajectory\" that the selected portfolio travels through time.\n",
    "\n",
    "In order to do so, and since the optimizer only returns the weights of the portfolio (and not its performance metrics), we gonna need a function that \"reverses\" these weights into the spatial performance metrics in the markowitz framework.\n",
    "\n",
    "Note that it shouldn't be that way. In an ideal world, we tell the optimizer exactly the risk we are willing to bear and it gives us in return the highest possible return for such risk, along the weights for such portfolio. But this is what it is for now.\n",
    "\n",
    "On the other hand, notice that telling the optimizer to maximize the return given some risk may also not be entirely correct, expecially if we don't know the exact form of the efficient frontier, i.e. its current distant or offset from origin. That why it's better to ask the optimizer to find a portfolio that complies with a specific characteristic, p.e., highest return, highest sharpe ratio, minimum risk, etc."
   ]
  },
  {
   "cell_type": "markdown",
   "metadata": {},
   "source": [
    "In the cell below we define the function that receives as an input a vector of weights, and a set of vector of returns and outputs the performance metrics (return & risk) for the portfolio defined by such weights. The inputs must be in row form."
   ]
  },
  {
   "cell_type": "code",
   "execution_count": 6,
   "metadata": {
    "collapsed": true
   },
   "outputs": [],
   "source": [
    "def portfolio_performance(returns, weights):\n",
    "    '''\n",
    "    Returns the mean and the standard deviation of returns for a given portfolio (given a set of time series)\n",
    "    '''\n",
    "    \n",
    "    p = np.asmatrix(np.mean(returns, axis=1))\n",
    "    w = np.asmatrix(weights)\n",
    "    C = np.asmatrix(np.cov(returns))\n",
    "    \n",
    "    mu = w * p.T\n",
    "    sigma = np.sqrt(w * C * w.T)\n",
    "    \n",
    "    return mu, sigma"
   ]
  },
  {
   "cell_type": "markdown",
   "metadata": {},
   "source": [
    "Ok, so now let's get the sequence of efficient portfolios using the same logic we used to get the sequence of efficient frontiers:"
   ]
  },
  {
   "cell_type": "code",
   "execution_count": 7,
   "metadata": {
    "collapsed": true
   },
   "outputs": [],
   "source": [
    "Period = []\n",
    "Return_star = []\n",
    "Risk_star = []\n",
    "\n",
    "#we'll find the efficient frontier every 20 days\n",
    "for x in range (0,120):\n",
    "    \n",
    "    returns_snapshot = return_vec[0 + x*20 : 250 + x*20].copy() #you need to do this stupid copy, because the optimizer needs the arrays transposed, and the dynamic nature of python will attempt to transpose the chopped array into the whole one.\n",
    "    weights, _, _ = optimal_portfolio(returns_snapshot.T)\n",
    "    ret, ris = portfolio_performance(returns_snapshot.T, weights.T) #notice the row form.\n",
    "    \n",
    "    Period.append(x)                   #These are coordinates x\n",
    "    Risk_star.append(ris[0,0])        #These are coordinates y #porfolio_performance returns the data in matrix form, hence the need to grab it this way\n",
    "    Return_star.append(ret[0,0])    #These are coordinates z"
   ]
  },
  {
   "cell_type": "markdown",
   "metadata": {},
   "source": [
    "Let's plot it."
   ]
  },
  {
   "cell_type": "code",
   "execution_count": 8,
   "metadata": {
    "collapsed": false
   },
   "outputs": [
    {
     "data": {
      "text/html": [
       "<iframe id=\"igraph\" scrolling=\"no\" style=\"border:none;\" seamless=\"seamless\" src=\"https://plot.ly/~linobi/187.embed\" height=\"525px\" width=\"100%\"></iframe>"
      ],
      "text/plain": [
       "<plotly.tools.PlotlyDisplay object>"
      ]
     },
     "execution_count": 8,
     "metadata": {},
     "output_type": "execute_result"
    }
   ],
   "source": [
    "trace = go.Scatter3d(\n",
    "    x=Period, y=Risk_star, z=Return_star,\n",
    "    marker=dict(\n",
    "        size=4,\n",
    "        color=Return_star,\n",
    "        colorscale='Viridis',\n",
    "    ),\n",
    "    line=dict(\n",
    "        color='#1f77b4',\n",
    "        width=1\n",
    "    )\n",
    ")\n",
    "\n",
    "data = [trace]\n",
    "\n",
    "fig = dict(data=data)\n",
    "\n",
    "py.iplot(fig, filename='idea_portfolio_trace')"
   ]
  },
  {
   "cell_type": "markdown",
   "metadata": {},
   "source": [
    "It looks like madness, doesn't it? In order to appreciate a bit better, we gonna plot it along the rest of the dynamic frontier, to try to make the most sense of it."
   ]
  },
  {
   "cell_type": "code",
   "execution_count": 9,
   "metadata": {
    "collapsed": false
   },
   "outputs": [
    {
     "data": {
      "text/html": [
       "<iframe id=\"igraph\" scrolling=\"no\" style=\"border:none;\" seamless=\"seamless\" src=\"https://plot.ly/~linobi/189.embed\" height=\"525px\" width=\"100%\"></iframe>"
      ],
      "text/plain": [
       "<plotly.tools.PlotlyDisplay object>"
      ]
     },
     "execution_count": 9,
     "metadata": {},
     "output_type": "execute_result"
    }
   ],
   "source": [
    "data = [trace, trace1]\n",
    "\n",
    "fig = dict(data=data, layout=layout)\n",
    "\n",
    "py.iplot(fig, filename='idea_portfolio_dynamic_front')"
   ]
  },
  {
   "cell_type": "markdown",
   "metadata": {},
   "source": [
    "Ok, but.. what would be the performance of such an \"ideal\" portfolio? That is, how would our money do if, somehow, we managed to always stay in that series of portfolios through time?\n",
    "\n"
   ]
  },
  {
   "cell_type": "markdown",
   "metadata": {
    "collapsed": true
   },
   "source": [
    "We propose that the performance -or behavior- of an ideal portfolio can be modelled through something called \"stochastic processes\". A stochastich process is basically a set of, time indexed, random variables, and it is mathematically denoted as:\n",
    "\n",
    "$$ {X_t: t \\in T} $$\n",
    "\n",
    "There are many well known and widely studied stochastich processes -like the famous Brownian Motion- that can be modelled in a parametrized fashion.\n",
    "\n",
    "Since we still don't know too much about the stochastich process we are dealing with here, we gonna have to generate its output by simply relying upon each of the observations we've got. That is, we are gonna say that for each instant of time $t$ our portfolio will gain (or lose) according to:\n",
    "\n",
    "$$ Return_t = N(\\mu_t , \\sigma_t) $$\n",
    "\n",
    "That is, $Return_t$ is a random variable with gaussian distribution with mean $\\mu_t$ and standard dev $\\sigma_t$. The geometric location of the ideal portfolio at instant $t$ directly defines the values of $\\mu_t$ and $\\sigma_t$ in a natural way. This return value is given in percentile terms."
   ]
  },
  {
   "cell_type": "markdown",
   "metadata": {},
   "source": [
    "So, for example, let's say I'got an initial portfolio value of $100,000:"
   ]
  },
  {
   "cell_type": "code",
   "execution_count": 10,
   "metadata": {
    "collapsed": false
   },
   "outputs": [],
   "source": [
    "Portfolio_value = [None] * 120\n",
    "Portfolio_value[0] = 100000"
   ]
  },
  {
   "cell_type": "markdown",
   "metadata": {},
   "source": [
    "What would it be its value at instant $t=1$?\n",
    "First, let's see where is the ideal portfolio at one instant before $t=1$, because that is what will define how could increase or decrease for the next instant of time:"
   ]
  },
  {
   "cell_type": "code",
   "execution_count": 11,
   "metadata": {
    "collapsed": false
   },
   "outputs": [
    {
     "name": "stdout",
     "output_type": "stream",
     "text": [
      "0.00282859089463\n",
      "0.0209411912773\n"
     ]
    }
   ],
   "source": [
    "print(Return_star[0])\n",
    "print(Risk_star[0])"
   ]
  },
  {
   "cell_type": "markdown",
   "metadata": {},
   "source": [
    "These values can also be found in our last plot.\n",
    "Now we need to simulate a the result of a random variable with a gaussian distribution and such parameters."
   ]
  },
  {
   "cell_type": "code",
   "execution_count": 12,
   "metadata": {
    "collapsed": false
   },
   "outputs": [
    {
     "name": "stdout",
     "output_type": "stream",
     "text": [
      "-0.01990580722554728\n"
     ]
    }
   ],
   "source": [
    "Return_ = np.random.normal(Return_star[0],Risk_star[0])\n",
    "print(Return_)"
   ]
  },
  {
   "cell_type": "markdown",
   "metadata": {},
   "source": [
    "This value changes with every run. But just for one of it, let's see how our portfolio would have done:"
   ]
  },
  {
   "cell_type": "code",
   "execution_count": 13,
   "metadata": {
    "collapsed": false
   },
   "outputs": [
    {
     "name": "stdout",
     "output_type": "stream",
     "text": [
      "98009.41927744527\n"
     ]
    }
   ],
   "source": [
    "Portfolio_value[1] = Portfolio_value[0] + Portfolio_value[0] * Return_\n",
    "print(Portfolio_value[1])"
   ]
  },
  {
   "cell_type": "markdown",
   "metadata": {},
   "source": [
    "Well, actually this value is completely incorrect. Remember that our Return_star and Risk_star vector are for periods every twenty days. So we need to get the full star vectors for the entire time length, not a downsampled version of them. Just for the sake of it, we gonna apply the markowitz style optimization with samples of 100 days (in order to mimic the earlier simulation we did in the constant_frequency_optimization notebook."
   ]
  },
  {
   "cell_type": "code",
   "execution_count": 14,
   "metadata": {
    "collapsed": true
   },
   "outputs": [],
   "source": [
    "Period = []\n",
    "Return_star = []\n",
    "Risk_star = []\n",
    "\n",
    "#we'll find the efficient frontier every 20 days\n",
    "for x in range (0,2500 - 100):\n",
    "    \n",
    "    returns_snapshot = return_vec[0 + x : 100 + x].copy() #you need to do this stupid copy, because the optimizer needs the arrays transposed, and the dynamic nature of python will attempt to transpose the chopped array into the whole one.\n",
    "    weights, _, _ = optimal_portfolio(returns_snapshot.T)\n",
    "    ret, ris = portfolio_performance(returns_snapshot.T, weights.T) #notice the row form.\n",
    "    \n",
    "    Period.append(x)                   #These are coordinates x\n",
    "    Risk_star.append(ris[0,0])        #These are coordinates y #porfolio_performance returns the data in matrix form, hence the need to grab it this way\n",
    "    Return_star.append(ret[0,0])    #These are coordinates z"
   ]
  },
  {
   "cell_type": "markdown",
   "metadata": {},
   "source": [
    "Now we can apply the stochastic process to the initial portfolio and get a possible final return for the entire investment period."
   ]
  },
  {
   "cell_type": "code",
   "execution_count": 15,
   "metadata": {
    "collapsed": false
   },
   "outputs": [],
   "source": [
    "Portfolio_value = [None] * len(Return_star) #or Risk_star whatever\n",
    "Portfolio_value[0] = 100000 #and account value\n",
    "for x in range (1,len(Return_star)):\n",
    "    Return_ = np.random.normal(Return_star[x-1],Risk_star[x-1])\n",
    "    Portfolio_value[x] = Portfolio_value[x-1] + Portfolio_value[x-1] * Return_"
   ]
  },
  {
   "cell_type": "markdown",
   "metadata": {},
   "source": [
    "And the final value of such an \"ideal\" portfolio is:"
   ]
  },
  {
   "cell_type": "code",
   "execution_count": 16,
   "metadata": {
    "collapsed": false
   },
   "outputs": [
    {
     "data": {
      "text/plain": [
       "17845595.370903533"
      ]
     },
     "execution_count": 16,
     "metadata": {},
     "output_type": "execute_result"
    }
   ],
   "source": [
    "Portfolio_value[-1]"
   ]
  },
  {
   "cell_type": "markdown",
   "metadata": {},
   "source": [
    "Let's watch it's behavior"
   ]
  },
  {
   "cell_type": "code",
   "execution_count": 17,
   "metadata": {
    "collapsed": false
   },
   "outputs": [
    {
     "data": {
      "image/png": "[encoded data removed]",
      "text/plain": [
       "<matplotlib.figure.Figure at 0x107ae5710>"
      ]
     },
     "metadata": {},
     "output_type": "display_data"
    }
   ],
   "source": [
    "fig = plt.figure()\n",
    "plt.plot(Portfolio_value, 'o', markersize=.5)\n",
    "plt.show()"
   ]
  },
  {
   "cell_type": "code",
   "execution_count": null,
   "metadata": {
    "collapsed": true
   },
   "outputs": [],
   "source": []
  }
 ],
 "metadata": {
  "kernelspec": {
   "display_name": "Python 3",
   "language": "python",
   "name": "python3"
  },
  "language_info": {
   "codemirror_mode": {
    "name": "ipython",
    "version": 3
   },
   "file_extension": ".py",
   "mimetype": "text/x-python",
   "name": "python",
   "nbconvert_exporter": "python",
   "pygments_lexer": "ipython3",
   "version": "3.5.2"
  }
 },
 "nbformat": 4,
 "nbformat_minor": 0
}
