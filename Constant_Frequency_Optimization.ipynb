{
 "cells": [
  {
   "cell_type": "markdown",
   "metadata": {},
   "source": [
    "In this notebook I'll show the results of mantaining a portfolio through ten year by rebalancing it at regular intervals of 1 (daily), 5 (weekly), 20 (monthly), and 60 (quarterly) days."
   ]
  },
  {
   "cell_type": "markdown",
   "metadata": {},
   "source": [
    "First just the usual stuff... library declaration..."
   ]
  },
  {
   "cell_type": "code",
   "execution_count": 1,
   "metadata": {
    "collapsed": false
   },
   "outputs": [],
   "source": [
    "%matplotlib inline\n",
    "import numpy as np\n",
    "import matplotlib.pyplot as plt\n",
    "import cvxopt as opt\n",
    "from cvxopt import blas, solvers\n",
    "import pandas as pd\n",
    "\n",
    "np.random.seed(123)\n",
    "\n",
    "#Turn off progress printing\n",
    "solvers.options['show_progress']=False\n",
    "\n",
    "import plotly.plotly as py\n",
    "import plotly.tools as tls\n",
    "from plotly.graph_objs import *\n",
    "\n",
    "import plotly\n",
    "py.sign_in('linobi', 'xlupudvz62')\n",
    "import cufflinks\n",
    "plotly.__version__\n",
    "\n",
    "from datetime import datetime\n",
    "from zipline.utils.factory import load_bars_from_yahoo"
   ]
  },
  {
   "cell_type": "markdown",
   "metadata": {},
   "source": [
    "Now we define the quadratic optimizator"
   ]
  },
  {
   "cell_type": "code",
   "execution_count": 2,
   "metadata": {
    "collapsed": true
   },
   "outputs": [],
   "source": [
    "def optimal_portfolio(returns):\n",
    "    n = len(returns)\n",
    "    returns = np.asmatrix(returns)\n",
    "    \n",
    "    N = 100\n",
    "    mus = [10**(5.0*t/N - 1.0) for t in range(N)]\n",
    "    \n",
    "    #Convert to cvxopt matrices\n",
    "    S = opt.matrix(np.cov(returns))\n",
    "    pbar = opt.matrix(np.mean(returns, axis=1))\n",
    "    \n",
    "    #Create constraint matrices\n",
    "    G = -opt.matrix(np.eye(n))\n",
    "    h = opt.matrix(0.0, (n, 1))\n",
    "    A = opt.matrix(1.0, (1, n))\n",
    "    b = opt.matrix(1.0)\n",
    "    \n",
    "    # Calculate efficient frontier weights using quadratic programming\n",
    "    portfolios = [solvers.qp(mu*S, -pbar, G, h, A, b)['x'] \n",
    "                  for mu in mus]\n",
    "    \n",
    "    ## Calculate risks and returns for frontier\n",
    "    returns = [blas.dot(pbar, x) for x in portfolios]\n",
    "    risks = [np.sqrt(blas.dot(x, S*x)) for x in portfolios]\n",
    "    \n",
    "    ## Calculate the 2nd degree polynomial of the frontier curve\n",
    "    m1 = np.polyfit(returns, risks, 2)\n",
    "    x1 = np.sqrt(m1[2] / m1[0])\n",
    "    \n",
    "    ## Calculate the optimal portfolio\n",
    "    wt = solvers.qp(opt.matrix(x1 * S), -pbar, G, h, A, b)['x']\n",
    "    return np.asarray(wt), returns, risks"
   ]
  },
  {
   "cell_type": "markdown",
   "metadata": {},
   "source": [
    "We request the data we want to use from yahoo"
   ]
  },
  {
   "cell_type": "code",
   "execution_count": 3,
   "metadata": {
    "collapsed": false
   },
   "outputs": [
    {
     "name": "stderr",
     "output_type": "stream",
     "text": [
      "/Users/lino/anaconda/lib/python3.5/site-packages/ipykernel/__main__.py:6: DeprecationWarning:\n",
      "\n",
      "load_bars_from_yahoo is deprecated, please register a yahoo_equities data bundle instead\n",
      "\n"
     ]
    },
    {
     "data": {
      "text/html": [
       "<iframe id=\"igraph\" scrolling=\"no\" style=\"border:none;\" seamless=\"seamless\" src=\"https://plot.ly/~linobi/177.embed\" height=\"525px\" width=\"100%\"></iframe>"
      ],
      "text/plain": [
       "<plotly.tools.PlotlyDisplay object>"
      ]
     },
     "execution_count": 3,
     "metadata": {},
     "output_type": "execute_result"
    }
   ],
   "source": [
    "end = pd.Timestamp(datetime(2016, 1, 1))\n",
    "start = end - 2500* pd.tseries.offsets.BDay() #Ten years approx.\n",
    "\n",
    "data = load_bars_from_yahoo(stocks=['IBM', 'GLD', 'XOM', 'AAPL', \n",
    "                                    'MSFT', 'TLT'],\n",
    "                            start=start, end=end)\n",
    "\n",
    "#in case you wanna take a look a it:\n",
    "data.loc[:, :, 'price'].iplot(filename='prices', yTitle='price in $', world_readable=True, asDates=True)"
   ]
  },
  {
   "cell_type": "markdown",
   "metadata": {},
   "source": [
    "Now we call the backtester (zipline). This could be up with rest of the libraries declaration."
   ]
  },
  {
   "cell_type": "code",
   "execution_count": 4,
   "metadata": {
    "collapsed": true
   },
   "outputs": [],
   "source": [
    "import zipline\n",
    "from zipline.api import (history,\n",
    "                         set_slippage,\n",
    "                         slippage,\n",
    "                         set_commission,\n",
    "                         order_target_percent)\n",
    "\n",
    "from zipline import TradingAlgorithm"
   ]
  },
  {
   "cell_type": "markdown",
   "metadata": {},
   "source": [
    "To make use of the backtester we need to instantiate two functions: initialize & handle_data. Initialize serve to declare global variables and stuff like that; handle_data is called upon each tick, which, in the case of the yahoo data resolution, is \"daily\". "
   ]
  },
  {
   "cell_type": "markdown",
   "metadata": {},
   "source": [
    "Note: This is the old fashioned use of zipline. The newer version includes data embedded and strongly suggest against using the raw handle_data function. Instead, it suggest to schedulue portfolio rebalancing every now and then (i.e. not paying attention to each tick). For now we will use this code, but it probably should be updated soon to reflect the new structure of zipline."
   ]
  },
  {
   "cell_type": "code",
   "execution_count": 5,
   "metadata": {
    "collapsed": true
   },
   "outputs": [],
   "source": [
    "def initialize(context):\n",
    "    '''\n",
    "    Called once at the very beginning of a backtest (and live trading). \n",
    "    Use this method to set up any bookkeeping variables.\n",
    "    \n",
    "    The context object is passed to all the other methods in your algorithm.\n",
    "\n",
    "    Parameters\n",
    "\n",
    "    context: An initialized and empty Python dictionary that has been \n",
    "             augmented so that properties can be accessed using dot \n",
    "             notation as well as the traditional bracket notation.\n",
    "    \n",
    "    Returns None\n",
    "    '''\n",
    "    context.tick = 0"
   ]
  },
  {
   "cell_type": "code",
   "execution_count": 21,
   "metadata": {
    "collapsed": true
   },
   "outputs": [],
   "source": [
    "def handle_data(context, data):\n",
    "    '''\n",
    "    Called when a market event occurs for any of the algorithm's \n",
    "    securities. \n",
    "\n",
    "    Parameters\n",
    "\n",
    "    data: A dictionary keyed by security id containing the current \n",
    "          state of the securities in the algo's universe.\n",
    "\n",
    "    context: The same context object from the initialize function.\n",
    "             Stores the up to date portfolio as well as any state \n",
    "             variables defined.\n",
    "\n",
    "    Returns None\n",
    "    '''\n",
    "    # Allow history to accumulate 100 days of prices before trading\n",
    "    # and rebalance every day thereafter.\n",
    "    context.tick += 1\n",
    "    if context.tick < 100:\n",
    "        return\n",
    "    # Get rolling window of past prices and compute returns\n",
    "    \n",
    "    #rebalance only every i days\n",
    "    i = 60\n",
    "    if (context.tick % i) != 0:\n",
    "        return\n",
    "    \n",
    "    prices = history(100, '1d', 'price').dropna()\n",
    "    returns = prices.pct_change().dropna()\n",
    "    try:\n",
    "        # Perform Markowitz-style portfolio optimization\n",
    "        weights, _, _ = optimal_portfolio(returns.T)\n",
    "        weights = np.around(weights)\n",
    "        # Rebalance portfolio accordingly\n",
    "        for stock, weight in zip(prices.columns, weights):\n",
    "            order_target_percent(stock, weight)\n",
    "    except ValueError as e:\n",
    "        # Sometimes this error is thrown\n",
    "        # ValueError: Rank(A) < p or Rank([P; A; G]) < n\n",
    "        pass"
   ]
  },
  {
   "cell_type": "markdown",
   "metadata": {},
   "source": [
    "We instantiate and run the algorithm by passing as a parameter the data previously fetched from yahoo:"
   ]
  },
  {
   "cell_type": "code",
   "execution_count": 22,
   "metadata": {
    "collapsed": true
   },
   "outputs": [],
   "source": [
    "# Instantinate algorithm        \n",
    "algo = TradingAlgorithm(initialize=initialize, \n",
    "                        handle_data=handle_data)"
   ]
  },
  {
   "cell_type": "code",
   "execution_count": 23,
   "metadata": {
    "collapsed": false
   },
   "outputs": [
    {
     "name": "stderr",
     "output_type": "stream",
     "text": [
      "/Users/lino/anaconda/lib/python3.5/site-packages/ipykernel/__main__.py:29: ZiplineDeprecationWarning:\n",
      "\n",
      "The `history` method is deprecated.  Use `data.history` instead.\n",
      "\n",
      "/Users/lino/anaconda/lib/python3.5/site-packages/zipline/finance/risk/period.py:98: FutureWarning:\n",
      "\n",
      "pd.rolling_count is deprecated for Series and will be removed in a future version, replace with \n",
      "\tSeries.rolling(window=21).count()\n",
      "\n",
      "/Users/lino/anaconda/lib/python3.5/site-packages/zipline/finance/risk/period.py:98: FutureWarning:\n",
      "\n",
      "pd.rolling_count is deprecated for Series and will be removed in a future version, replace with \n",
      "\tSeries.rolling(window=20).count()\n",
      "\n",
      "/Users/lino/anaconda/lib/python3.5/site-packages/zipline/finance/risk/period.py:98: FutureWarning:\n",
      "\n",
      "pd.rolling_count is deprecated for Series and will be removed in a future version, replace with \n",
      "\tSeries.rolling(window=23).count()\n",
      "\n",
      "/Users/lino/anaconda/lib/python3.5/site-packages/zipline/finance/risk/period.py:98: FutureWarning:\n",
      "\n",
      "pd.rolling_count is deprecated for Series and will be removed in a future version, replace with \n",
      "\tSeries.rolling(window=22).count()\n",
      "\n",
      "/Users/lino/anaconda/lib/python3.5/site-packages/zipline/finance/risk/period.py:98: FutureWarning:\n",
      "\n",
      "pd.rolling_count is deprecated for Series and will be removed in a future version, replace with \n",
      "\tSeries.rolling(window=19).count()\n",
      "\n",
      "/Users/lino/anaconda/lib/python3.5/site-packages/zipline/finance/risk/period.py:98: FutureWarning:\n",
      "\n",
      "pd.rolling_count is deprecated for Series and will be removed in a future version, replace with \n",
      "\tSeries.rolling(window=64).count()\n",
      "\n",
      "/Users/lino/anaconda/lib/python3.5/site-packages/zipline/finance/risk/period.py:98: FutureWarning:\n",
      "\n",
      "pd.rolling_count is deprecated for Series and will be removed in a future version, replace with \n",
      "\tSeries.rolling(window=63).count()\n",
      "\n",
      "/Users/lino/anaconda/lib/python3.5/site-packages/zipline/finance/risk/period.py:98: FutureWarning:\n",
      "\n",
      "pd.rolling_count is deprecated for Series and will be removed in a future version, replace with \n",
      "\tSeries.rolling(window=65).count()\n",
      "\n",
      "/Users/lino/anaconda/lib/python3.5/site-packages/zipline/finance/risk/period.py:98: FutureWarning:\n",
      "\n",
      "pd.rolling_count is deprecated for Series and will be removed in a future version, replace with \n",
      "\tSeries.rolling(window=61).count()\n",
      "\n",
      "/Users/lino/anaconda/lib/python3.5/site-packages/zipline/finance/risk/period.py:98: FutureWarning:\n",
      "\n",
      "pd.rolling_count is deprecated for Series and will be removed in a future version, replace with \n",
      "\tSeries.rolling(window=59).count()\n",
      "\n",
      "/Users/lino/anaconda/lib/python3.5/site-packages/zipline/finance/risk/period.py:98: FutureWarning:\n",
      "\n",
      "pd.rolling_count is deprecated for Series and will be removed in a future version, replace with \n",
      "\tSeries.rolling(window=62).count()\n",
      "\n",
      "/Users/lino/anaconda/lib/python3.5/site-packages/zipline/finance/risk/period.py:98: FutureWarning:\n",
      "\n",
      "pd.rolling_count is deprecated for Series and will be removed in a future version, replace with \n",
      "\tSeries.rolling(window=60).count()\n",
      "\n",
      "/Users/lino/anaconda/lib/python3.5/site-packages/zipline/finance/risk/period.py:98: FutureWarning:\n",
      "\n",
      "pd.rolling_count is deprecated for Series and will be removed in a future version, replace with \n",
      "\tSeries.rolling(window=127).count()\n",
      "\n",
      "/Users/lino/anaconda/lib/python3.5/site-packages/zipline/finance/risk/period.py:98: FutureWarning:\n",
      "\n",
      "pd.rolling_count is deprecated for Series and will be removed in a future version, replace with \n",
      "\tSeries.rolling(window=126).count()\n",
      "\n",
      "/Users/lino/anaconda/lib/python3.5/site-packages/zipline/finance/risk/period.py:98: FutureWarning:\n",
      "\n",
      "pd.rolling_count is deprecated for Series and will be removed in a future version, replace with \n",
      "\tSeries.rolling(window=122).count()\n",
      "\n",
      "/Users/lino/anaconda/lib/python3.5/site-packages/zipline/finance/risk/period.py:98: FutureWarning:\n",
      "\n",
      "pd.rolling_count is deprecated for Series and will be removed in a future version, replace with \n",
      "\tSeries.rolling(window=124).count()\n",
      "\n",
      "/Users/lino/anaconda/lib/python3.5/site-packages/zipline/finance/risk/period.py:98: FutureWarning:\n",
      "\n",
      "pd.rolling_count is deprecated for Series and will be removed in a future version, replace with \n",
      "\tSeries.rolling(window=123).count()\n",
      "\n",
      "/Users/lino/anaconda/lib/python3.5/site-packages/zipline/finance/risk/period.py:98: FutureWarning:\n",
      "\n",
      "pd.rolling_count is deprecated for Series and will be removed in a future version, replace with \n",
      "\tSeries.rolling(window=125).count()\n",
      "\n",
      "/Users/lino/anaconda/lib/python3.5/site-packages/zipline/finance/risk/period.py:98: FutureWarning:\n",
      "\n",
      "pd.rolling_count is deprecated for Series and will be removed in a future version, replace with \n",
      "\tSeries.rolling(window=129).count()\n",
      "\n",
      "/Users/lino/anaconda/lib/python3.5/site-packages/zipline/finance/risk/period.py:98: FutureWarning:\n",
      "\n",
      "pd.rolling_count is deprecated for Series and will be removed in a future version, replace with \n",
      "\tSeries.rolling(window=128).count()\n",
      "\n",
      "/Users/lino/anaconda/lib/python3.5/site-packages/zipline/finance/risk/period.py:98: FutureWarning:\n",
      "\n",
      "pd.rolling_count is deprecated for Series and will be removed in a future version, replace with \n",
      "\tSeries.rolling(window=121).count()\n",
      "\n",
      "/Users/lino/anaconda/lib/python3.5/site-packages/zipline/finance/risk/period.py:98: FutureWarning:\n",
      "\n",
      "pd.rolling_count is deprecated for Series and will be removed in a future version, replace with \n",
      "\tSeries.rolling(window=250).count()\n",
      "\n",
      "/Users/lino/anaconda/lib/python3.5/site-packages/zipline/finance/risk/period.py:98: FutureWarning:\n",
      "\n",
      "pd.rolling_count is deprecated for Series and will be removed in a future version, replace with \n",
      "\tSeries.rolling(window=251).count()\n",
      "\n",
      "/Users/lino/anaconda/lib/python3.5/site-packages/zipline/finance/risk/period.py:98: FutureWarning:\n",
      "\n",
      "pd.rolling_count is deprecated for Series and will be removed in a future version, replace with \n",
      "\tSeries.rolling(window=252).count()\n",
      "\n",
      "/Users/lino/anaconda/lib/python3.5/site-packages/zipline/finance/risk/period.py:98: FutureWarning:\n",
      "\n",
      "pd.rolling_count is deprecated for Series and will be removed in a future version, replace with \n",
      "\tSeries.rolling(window=253).count()\n",
      "\n",
      "/Users/lino/anaconda/lib/python3.5/site-packages/zipline/finance/risk/period.py:98: FutureWarning:\n",
      "\n",
      "pd.rolling_count is deprecated for Series and will be removed in a future version, replace with \n",
      "\tSeries.rolling(window=248).count()\n",
      "\n",
      "/Users/lino/anaconda/lib/python3.5/site-packages/zipline/finance/risk/period.py:98: FutureWarning:\n",
      "\n",
      "pd.rolling_count is deprecated for Series and will be removed in a future version, replace with \n",
      "\tSeries.rolling(window=249).count()\n",
      "\n"
     ]
    }
   ],
   "source": [
    "# Run algorithm\n",
    "results = algo.run(data)"
   ]
  },
  {
   "cell_type": "markdown",
   "metadata": {},
   "source": [
    "Now let's plot the performance of our portfolio daily rebalanced."
   ]
  },
  {
   "cell_type": "code",
   "execution_count": 12,
   "metadata": {
    "collapsed": false
   },
   "outputs": [
    {
     "data": {
      "text/html": [
       "<iframe id=\"igraph\" scrolling=\"no\" style=\"border:none;\" seamless=\"seamless\" src=\"https://plot.ly/~linobi/179.embed\" height=\"525px\" width=\"100%\"></iframe>"
      ],
      "text/plain": [
       "<plotly.tools.PlotlyDisplay object>"
      ]
     },
     "execution_count": 12,
     "metadata": {},
     "output_type": "execute_result"
    }
   ],
   "source": [
    "results.portfolio_value.iplot(filename='portfolio_daily', yTitle='Cumulative capital in $', world_readable=True, asDates=True)"
   ]
  },
  {
   "cell_type": "markdown",
   "metadata": {},
   "source": [
    "Not bad at all. But let's see if we can do better by rebalacing not so often. Let's say, weekly, that is, every five days. By changing the value of variable i in handle_data function we can set our algorithm to rebalance every i days. So, when i = 5:"
   ]
  },
  {
   "cell_type": "code",
   "execution_count": 16,
   "metadata": {
    "collapsed": false
   },
   "outputs": [
    {
     "data": {
      "text/html": [
       "<iframe id=\"igraph\" scrolling=\"no\" style=\"border:none;\" seamless=\"seamless\" src=\"https://plot.ly/~linobi/181.embed\" height=\"525px\" width=\"100%\"></iframe>"
      ],
      "text/plain": [
       "<plotly.tools.PlotlyDisplay object>"
      ]
     },
     "execution_count": 16,
     "metadata": {},
     "output_type": "execute_result"
    }
   ],
   "source": [
    "results.portfolio_value.iplot(filename='portfolio_weekly', yTitle='Cumulative capital in $', world_readable=True, asDates=True)"
   ]
  },
  {
   "cell_type": "markdown",
   "metadata": {},
   "source": [
    "That was it for rebalancing every 5 days. There were some 50K extra by the end."
   ]
  },
  {
   "cell_type": "markdown",
   "metadata": {},
   "source": [
    "Now, for i = 20:"
   ]
  },
  {
   "cell_type": "code",
   "execution_count": 20,
   "metadata": {
    "collapsed": false
   },
   "outputs": [
    {
     "data": {
      "text/html": [
       "<iframe id=\"igraph\" scrolling=\"no\" style=\"border:none;\" seamless=\"seamless\" src=\"https://plot.ly/~linobi/183.embed\" height=\"525px\" width=\"100%\"></iframe>"
      ],
      "text/plain": [
       "<plotly.tools.PlotlyDisplay object>"
      ]
     },
     "execution_count": 20,
     "metadata": {},
     "output_type": "execute_result"
    }
   ],
   "source": [
    "results.portfolio_value.iplot(filename='portfolio_monthly', yTitle='Cumulative capital in $', world_readable=True, asDates=True)"
   ]
  },
  {
   "cell_type": "markdown",
   "metadata": {},
   "source": [
    "Rebalancing every month (approximately) sank the portfolio performance. The inverval between rebalance and rebalance is way to big. But just for the sake of it, let's see what happens if we rebalance four times a year:"
   ]
  },
  {
   "cell_type": "code",
   "execution_count": 24,
   "metadata": {
    "collapsed": false
   },
   "outputs": [
    {
     "data": {
      "text/html": [
       "<iframe id=\"igraph\" scrolling=\"no\" style=\"border:none;\" seamless=\"seamless\" src=\"https://plot.ly/~linobi/185.embed\" height=\"525px\" width=\"100%\"></iframe>"
      ],
      "text/plain": [
       "<plotly.tools.PlotlyDisplay object>"
      ]
     },
     "execution_count": 24,
     "metadata": {},
     "output_type": "execute_result"
    }
   ],
   "source": [
    "results.portfolio_value.iplot(filename='portfolio_quarterly', yTitle='Cumulative capital in $', world_readable=True, asDates=True)"
   ]
  },
  {
   "cell_type": "markdown",
   "metadata": {},
   "source": [
    "There isn't much of a difference between rebalacing monthly and rebalancing every three months in terms of final return; but notice how after the 2008 crisis this portfolio achieves a higher sharpe ratio (is less volatile) than the monthly portfolio."
   ]
  },
  {
   "cell_type": "code",
   "execution_count": null,
   "metadata": {
    "collapsed": true
   },
   "outputs": [],
   "source": []
  }
 ],
 "metadata": {
  "kernelspec": {
   "display_name": "Python 3",
   "language": "python",
   "name": "python3"
  },
  "language_info": {
   "codemirror_mode": {
    "name": "ipython",
    "version": 3
   },
   "file_extension": ".py",
   "mimetype": "text/x-python",
   "name": "python",
   "nbconvert_exporter": "python",
   "pygments_lexer": "ipython3",
   "version": "3.5.2"
  }
 },
 "nbformat": 4,
 "nbformat_minor": 0
}
